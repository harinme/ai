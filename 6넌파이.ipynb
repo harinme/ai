{
  "nbformat": 4,
  "nbformat_minor": 0,
  "metadata": {
    "colab": {
      "provenance": [],
      "authorship_tag": "ABX9TyOB0OgTgu8yQLFpAPoM1tEZ",
      "include_colab_link": true
    },
    "kernelspec": {
      "name": "python3",
      "display_name": "Python 3"
    },
    "language_info": {
      "name": "python"
    }
  },
  "cells": [
    {
      "cell_type": "markdown",
      "metadata": {
        "id": "view-in-github",
        "colab_type": "text"
      },
      "source": [
        "<a href=\"https://colab.research.google.com/github/harinme/ai/blob/main/6%EB%84%8C%ED%8C%8C%EC%9D%B4.ipynb\" target=\"_parent\"><img src=\"https://colab.research.google.com/assets/colab-badge.svg\" alt=\"Open In Colab\"/></a>"
      ]
    },
    {
      "cell_type": "code",
      "execution_count": 1,
      "metadata": {
        "colab": {
          "base_uri": "https://localhost:8080/"
        },
        "id": "4VmUxwSC0XZl",
        "outputId": "0a7e255a-ed6b-48f6-d83d-cfaa06f3adf8"
      },
      "outputs": [
        {
          "output_type": "stream",
          "name": "stdout",
          "text": [
            "Requirement already satisfied: numpy in /usr/local/lib/python3.10/dist-packages (1.25.2)\n"
          ]
        }
      ],
      "source": [
        "!pip install numpy # 넌파이 설치"
      ]
    },
    {
      "cell_type": "code",
      "source": [
        "import numpy as np # 넌파이 import\n",
        "a=np.array(0) # 스칼라\n",
        "print(a)\n",
        "print(a.ndim)\n",
        "type(a)\n",
        "print('')\n",
        "\n",
        "a2= np.array([1,2,3,4]) # 벡터\n",
        "print(a2)\n",
        "print(a2.ndim)\n",
        "type(a2)\n",
        "print('')\n",
        "\n",
        "a3=np.array([[1,2,3],[4,5,6,],[7,8,9]]) # 행렬 3행 3열\n",
        "print(a3)\n",
        "print(a3.ndim)\n",
        "type(a3)\n",
        "print('')\n",
        "\n",
        "a4=np.array([[[1,2],[3,4],[5,6]],[[7,8],[9,10],[11,12]]]) # 텐서 2면 3행 2열\n",
        "print(a4)\n",
        "print(a4.ndim)\n",
        "print(a4.shape)\n",
        "type(a4)\n",
        "print('')\n",
        "\n",
        "# 3면 2행 2열\n",
        "a5=np.array([[[1,2],[3,4]],[[5,6],[7,8]],[[9,10],[11,12]]])\n",
        "print(a5)\n",
        "print(a5.ndim)\n",
        "print(a5.shape)\n",
        "type(a5)\n",
        "\n"
      ],
      "metadata": {
        "colab": {
          "base_uri": "https://localhost:8080/"
        },
        "id": "v-OwSm852r1q",
        "outputId": "1e06b7ff-efef-4097-bc4b-7c5256ccb742"
      },
      "execution_count": 22,
      "outputs": [
        {
          "output_type": "stream",
          "name": "stdout",
          "text": [
            "0\n",
            "0\n",
            "\n",
            "[1 2 3 4]\n",
            "1\n",
            "\n",
            "[[1 2 3]\n",
            " [4 5 6]\n",
            " [7 8 9]]\n",
            "2\n",
            "\n",
            "[[[ 1  2]\n",
            "  [ 3  4]\n",
            "  [ 5  6]]\n",
            "\n",
            " [[ 7  8]\n",
            "  [ 9 10]\n",
            "  [11 12]]]\n",
            "3\n",
            "(2, 3, 2)\n",
            "\n",
            "[[[ 1  2]\n",
            "  [ 3  4]]\n",
            "\n",
            " [[ 5  6]\n",
            "  [ 7  8]]\n",
            "\n",
            " [[ 9 10]\n",
            "  [11 12]]]\n",
            "3\n",
            "(3, 2, 2)\n"
          ]
        },
        {
          "output_type": "execute_result",
          "data": {
            "text/plain": [
              "numpy.ndarray"
            ]
          },
          "metadata": {},
          "execution_count": 22
        }
      ]
    },
    {
      "cell_type": "code",
      "source": [
        "# reshaping\n",
        "b= np.arange(12) # 1차원 벡터를 생성\n",
        "print(b)\n",
        "print('')\n",
        "\n",
        "b.shape\n",
        "b.shape= 2,-1\n",
        "print(b)\n",
        "print('')\n",
        "\n",
        "b.shape= 3,-1\n",
        "print(b)\n",
        "print('')\n",
        "\n",
        "b.shape=-1,1\n",
        "print(b)\n",
        "print('')\n",
        "\n",
        "b.shape=-1,3\n",
        "print(b)\n",
        "print('')\n",
        "\n",
        "b.shape=-1\n",
        "print(b)"
      ],
      "metadata": {
        "colab": {
          "base_uri": "https://localhost:8080/"
        },
        "id": "HCMKIPWkAoHm",
        "outputId": "20c822b6-7ae1-49b2-b23a-28b4e465ad37"
      },
      "execution_count": 34,
      "outputs": [
        {
          "output_type": "stream",
          "name": "stdout",
          "text": [
            "[ 0  1  2  3  4  5  6  7  8  9 10 11]\n",
            "\n",
            "[[ 0  1  2  3  4  5]\n",
            " [ 6  7  8  9 10 11]]\n",
            "\n",
            "[[ 0  1  2  3]\n",
            " [ 4  5  6  7]\n",
            " [ 8  9 10 11]]\n",
            "\n",
            "[[ 0]\n",
            " [ 1]\n",
            " [ 2]\n",
            " [ 3]\n",
            " [ 4]\n",
            " [ 5]\n",
            " [ 6]\n",
            " [ 7]\n",
            " [ 8]\n",
            " [ 9]\n",
            " [10]\n",
            " [11]]\n",
            "\n",
            "[[ 0  1  2]\n",
            " [ 3  4  5]\n",
            " [ 6  7  8]\n",
            " [ 9 10 11]]\n",
            "\n",
            "[ 0  1  2  3  4  5  6  7  8  9 10 11]\n"
          ]
        }
      ]
    },
    {
      "cell_type": "code",
      "source": [
        "# reshaping\n",
        "b= np.arange(12) # 1차원 벡터를 생성\n",
        "print(b)\n",
        "print('')\n",
        "\n",
        "b.shape\n",
        "b.shape= 2,-1\n",
        "print(b)\n",
        "print(b.size, '~~~~')\n",
        "print('')"
      ],
      "metadata": {
        "colab": {
          "base_uri": "https://localhost:8080/"
        },
        "id": "Y96oaKWDC1jv",
        "outputId": "eb4f62aa-b587-458b-ddee-135fa3bef922"
      },
      "execution_count": 36,
      "outputs": [
        {
          "output_type": "stream",
          "name": "stdout",
          "text": [
            "[ 0  1  2  3  4  5  6  7  8  9 10 11]\n",
            "\n",
            "[[ 0  1  2  3  4  5]\n",
            " [ 6  7  8  9 10 11]]\n",
            "12 ~~~~\n",
            "\n"
          ]
        }
      ]
    },
    {
      "cell_type": "markdown",
      "source": [
        "- 자료형\n",
        "  - int형(정수)\n",
        "    - int64, int16, int8, uint64\n",
        "    - -2^63 ~ 2^63 -1 범위의 정수를 표현할 수 있다.\n",
        "    - -2^15 ~ 2^15 -1\n",
        "    - 0 ~ 2^127 unit64의 정수 표현의 범위 양의정수만 구한다.\n",
        "\n",
        "  - float형(실수) - 부동소숫점 표현방식(자료 검색 할 때)\n",
        "    - float64- 소숫점 15까지 정확하다, float32 - 6, float16 -2\n",
        "    - 자료 저장 모습: 부호 비트 1비트   지부수(7비트)  가수부(8 or 24 or 58)\n",
        "    - 소숫점 아래를 저장하는 공간이 많아지게 하는 것\n",
        "    - 실수의 기본은 float64이다.\n",
        "\n",
        "  - complex형(복소수)\n",
        "    - complex128, complex64"
      ],
      "metadata": {
        "id": "Lnsl1nOmD_Cm"
      }
    },
    {
      "cell_type": "code",
      "source": [
        "#int32의 자료표현의 범위 -2147483648 ~ 2147483647까지 정수 표현의 범위\n",
        "a= np.array([1,3,5,7,9], np.int32) # 8비트 -2^7 ~ +2^7 -1 = -128 ~ 127까지 정수 표현할 수 있다.\n",
        "print(a)\n",
        "a.dtype\n",
        "print('')\n",
        "\n",
        "a1=np.array([2147483646,2147483647,2147483649], np.int32)\n",
        "print(a1)\n",
        "print('')\n",
        "\n",
        "a2= np.array([2**63,2**63+1,2**63+2])\n",
        "print(a2)\n",
        "a2.dtype\n",
        "print('')\n",
        "\n",
        "a3= np.array([2**62-2**63])\n",
        "print(a3)\n",
        "a3.dtype\n",
        "print('')\n",
        "\n",
        "a4= np.array([1,3,5,7,9]) #64비트로 처리\n",
        "print(a4)\n",
        "a4.dtype\n",
        "\n",
        "# 결론 자료형을 명시하지 않으면 정수형의 기본은 int64이다.\n",
        "# 너무 큰 자료형이므로 메모리 절약을 위해서 int8, int16, int32로 바꿀 수 있다.\n"
      ],
      "metadata": {
        "colab": {
          "base_uri": "https://localhost:8080/"
        },
        "id": "FEEEqDOuHU6x",
        "outputId": "33fef72e-bf63-4ef8-ced7-140ba2da8a73"
      },
      "execution_count": 45,
      "outputs": [
        {
          "output_type": "stream",
          "name": "stdout",
          "text": [
            "[1 3 5 7 9]\n",
            "\n",
            "[ 2147483646  2147483647 -2147483647]\n",
            "\n",
            "[9223372036854775808 9223372036854775809 9223372036854775810]\n",
            "\n",
            "[-4611686018427387904]\n",
            "\n",
            "[1 3 5 7 9]\n"
          ]
        },
        {
          "output_type": "stream",
          "name": "stderr",
          "text": [
            "<ipython-input-45-ef31f5270f80>:7: DeprecationWarning: NumPy will stop allowing conversion of out-of-bound Python integers to integer arrays.  The conversion of 2147483649 to int32 will fail in the future.\n",
            "For the old behavior, usually:\n",
            "    np.array(value).astype(dtype)\n",
            "will give the desired result (the cast overflows).\n",
            "  a1=np.array([2147483646,2147483647,2147483649], np.int32)\n"
          ]
        },
        {
          "output_type": "execute_result",
          "data": {
            "text/plain": [
              "dtype('int64')"
            ]
          },
          "metadata": {},
          "execution_count": 45
        }
      ]
    },
    {
      "cell_type": "code",
      "source": [
        "# 실수형\n",
        "a= np.array(3.141592653589793, np.float64)\n",
        "print(a)\n",
        "a.dtype"
      ],
      "metadata": {
        "colab": {
          "base_uri": "https://localhost:8080/"
        },
        "id": "8L8JAH7SQiP8",
        "outputId": "562d8e6b-aaf9-4813-afb9-12931554bde8"
      },
      "execution_count": 48,
      "outputs": [
        {
          "output_type": "stream",
          "name": "stdout",
          "text": [
            "3.141592653589793\n"
          ]
        },
        {
          "output_type": "execute_result",
          "data": {
            "text/plain": [
              "dtype('float64')"
            ]
          },
          "metadata": {},
          "execution_count": 48
        }
      ]
    },
    {
      "cell_type": "code",
      "source": [
        "a= np.array([1,2j,3+4j,2.72+3.14j])\n",
        "print(a)\n",
        "a.dtype\n",
        "a.real # 실수만 추출\n",
        "a.imag # 허수만 추출\n",
        "print(a.real.dtype, '!!')\n",
        "print(a.imag.dtype,'~~')"
      ],
      "metadata": {
        "colab": {
          "base_uri": "https://localhost:8080/"
        },
        "id": "aRqlyMVMTKgk",
        "outputId": "c0d2c641-80da-480a-e78e-d21d938f4abb"
      },
      "execution_count": 51,
      "outputs": [
        {
          "output_type": "stream",
          "name": "stdout",
          "text": [
            "[1.  +0.j   0.  +2.j   3.  +4.j   2.72+3.14j]\n",
            "float64 !!\n",
            "float64 ~~\n"
          ]
        }
      ]
    },
    {
      "cell_type": "markdown",
      "source": [
        "1. 인덱싱 indexing\n",
        "  1) 1DArray\n",
        "  2) 2DArray\n",
        "\n",
        "2. 슬라이싱 slicing\n",
        "  1) 1DArray\n",
        "  2) 2DArray\n",
        "  \n",
        "3. interating\n",
        "  1) 1DArray\n",
        "  2) 2DArray"
      ],
      "metadata": {
        "id": "6ZJ23IQsVaG9"
      }
    },
    {
      "cell_type": "code",
      "source": [
        "# 인덱싱 indexing 1) 1DArray 2) 2DArray\n",
        "a=np.array([1,3,5,7,9])\n",
        "print(a)\n",
        "print(a.ndim)\n",
        "print(a.shape)\n",
        "print(a[0])\n",
        "print(a[3])\n",
        "print(a[4])"
      ],
      "metadata": {
        "colab": {
          "base_uri": "https://localhost:8080/"
        },
        "id": "rrAaDfCOVU_9",
        "outputId": "d64476e2-590f-48d6-cab5-856658e29f98"
      },
      "execution_count": 54,
      "outputs": [
        {
          "output_type": "stream",
          "name": "stdout",
          "text": [
            "[1 3 5 7 9]\n",
            "1\n",
            "(5,)\n",
            "1\n",
            "7\n",
            "9\n"
          ]
        }
      ]
    },
    {
      "cell_type": "code",
      "source": [
        "# 인덱싱 indexing 1) 1DArray 2) 2DArray\n",
        "a2=np.array([[1,3,5],[2,4,6]])\n",
        "print(a2)\n",
        "print(a2.ndim)\n",
        "print(a2.shape)\n",
        "# 1 5 4 추출\n",
        "print(a2[0,0],a2[0,2], a2[1,1])\n",
        "print(a2[0,2], a2[1,1])\n",
        "\n",
        "# 6, 3\n",
        "print( a2[1,2], a2[0,1])\n",
        "# 3값을 13을 바꾸기\n",
        "a2[0,1] = 13\n",
        "# 2값을 25로 바꾸기\n",
        "a2[1,0] = 25\n",
        "print( a2 )\n",
        "\n",
        "# 0번 행 전체의 값에다 +10을 한다면\n",
        "print(a2[0])\n",
        "print(a2[0,: ])\n",
        "print(a2[0,0:3])\n",
        "a2[0]=a2[0]+10\n",
        "print(a2[0])\n",
        "\n",
        "# 1번 행에 2를 전부 곱하기\n",
        "a2[1]= a2[1]*2\n",
        "a2[1] *= 2\n",
        "# 1번열에 2를 전부 나누기\n",
        "a2[:,1:2] = a2[:,:1:2]/2\n",
        "\n"
      ],
      "metadata": {
        "colab": {
          "base_uri": "https://localhost:8080/"
        },
        "id": "UHPYOSnJW6eu",
        "outputId": "319b40a3-a8bb-406e-8ed7-c2aae071eea0"
      },
      "execution_count": 66,
      "outputs": [
        {
          "output_type": "stream",
          "name": "stdout",
          "text": [
            "[[1 3 5]\n",
            " [2 4 6]]\n",
            "2\n",
            "(2, 3)\n",
            "1 5 4\n",
            "5 4\n",
            "6 3\n",
            "[[ 1 13  5]\n",
            " [25  4  6]]\n",
            "[ 1 13  5]\n",
            "[ 1 13  5]\n",
            "[ 1 13  5]\n",
            "[11 23 15]\n"
          ]
        }
      ]
    },
    {
      "cell_type": "code",
      "source": [
        "a3=np.arange(15)\n",
        "print(a3[1:10:2])\n",
        "print(a3[2:12:2])\n",
        "print(a3[-1:9:-1])\n",
        "print(a3[::])\n",
        "print(a3[1:2])\n",
        "print(a3[-1])"
      ],
      "metadata": {
        "colab": {
          "base_uri": "https://localhost:8080/"
        },
        "id": "LWqLON0chkYy",
        "outputId": "e1e21691-089c-43b8-a5dd-ba046cd37b96"
      },
      "execution_count": 86,
      "outputs": [
        {
          "output_type": "stream",
          "name": "stdout",
          "text": [
            "[1 3 5 7 9]\n",
            "[ 2  4  6  8 10]\n",
            "[14 13 12 11 10]\n",
            "[ 0  1  2  3  4  5  6  7  8  9 10 11 12 13 14]\n",
            "[1]\n",
            "14\n"
          ]
        }
      ]
    },
    {
      "cell_type": "code",
      "source": [
        "b= np.arange(10,22).reshape(3,4)\n",
        "for bb in b:\n",
        "  print(bb)"
      ],
      "metadata": {
        "colab": {
          "base_uri": "https://localhost:8080/"
        },
        "id": "Fa6s_v6Ly-sz",
        "outputId": "c8cdaec6-e7da-4f20-e88b-124799f13f7a"
      },
      "execution_count": 87,
      "outputs": [
        {
          "output_type": "stream",
          "name": "stdout",
          "text": [
            "[10 11 12 13]\n",
            "[14 15 16 17]\n",
            "[18 19 20 21]\n"
          ]
        }
      ]
    },
    {
      "cell_type": "code",
      "source": [
        "# arange\n",
        "a=np.arange(10,101,5)\n",
        "print(a)\n",
        "a=np.arange(10,dtype=np.float32)\n",
        "print(a)\n",
        "\n",
        "# 0. 0.1 0.2 ... 0.9\n",
        "a=np.arange(0.0, 1.0, 0.1, dtype=np.float32)\n",
        "a=np.arange(0, 1,0.1)\n",
        "print(a)\n",
        "print(a.dtype)"
      ],
      "metadata": {
        "colab": {
          "base_uri": "https://localhost:8080/"
        },
        "id": "A0Cd4qAy8pso",
        "outputId": "2c25a932-a231-4db7-8702-f25e0acba9aa"
      },
      "execution_count": 88,
      "outputs": [
        {
          "output_type": "stream",
          "name": "stdout",
          "text": [
            "[ 10  15  20  25  30  35  40  45  50  55  60  65  70  75  80  85  90  95\n",
            " 100]\n",
            "[0. 1. 2. 3. 4. 5. 6. 7. 8. 9.]\n",
            "[0.  0.1 0.2 0.3 0.4 0.5 0.6 0.7 0.8 0.9]\n",
            "float64\n"
          ]
        }
      ]
    },
    {
      "cell_type": "code",
      "source": [
        "# reshape\n",
        "a=np.array([1,2,3,4,5,6]).reshape(2,3)\n",
        "print(a)"
      ],
      "metadata": {
        "colab": {
          "base_uri": "https://localhost:8080/"
        },
        "id": "UDrfmKy6_69a",
        "outputId": "3b2f7ebb-95d4-4861-ab13-a1106a10c4de"
      },
      "execution_count": 89,
      "outputs": [
        {
          "output_type": "stream",
          "name": "stdout",
          "text": [
            "[[1 2 3]\n",
            " [4 5 6]]\n"
          ]
        }
      ]
    },
    {
      "cell_type": "code",
      "source": [
        "# r_ row 행\n",
        "a=np.array([1,2,3])\n",
        "b=np.array([4,5,6,7])\n",
        "print(a)\n",
        "print(b)\n",
        "c=np.r_[a,b]\n",
        "print(c)"
      ],
      "metadata": {
        "colab": {
          "base_uri": "https://localhost:8080/"
        },
        "id": "9VtTREERCcxa",
        "outputId": "66c85469-b080-49a1-bf98-b0e46f2f3754"
      },
      "execution_count": 90,
      "outputs": [
        {
          "output_type": "stream",
          "name": "stdout",
          "text": [
            "[1 2 3]\n",
            "[4 5 6 7]\n",
            "[1 2 3 4 5 6 7]\n"
          ]
        }
      ]
    },
    {
      "cell_type": "code",
      "source": [
        "# c_column 열 형태로 합치기\n",
        "a= np.array([1,2,3])\n",
        "b=np.array([4,5,6])\n",
        "print(a)\n",
        "print(b)\n",
        "c=np.c_[a,b]\n",
        "print(c)"
      ],
      "metadata": {
        "colab": {
          "base_uri": "https://localhost:8080/"
        },
        "id": "63ipCDn-DDTR",
        "outputId": "784a6034-7a71-42d4-f8a6-bb992bcd3220"
      },
      "execution_count": 91,
      "outputs": [
        {
          "output_type": "stream",
          "name": "stdout",
          "text": [
            "[1 2 3]\n",
            "[4 5 6]\n",
            "[[1 4]\n",
            " [2 5]\n",
            " [3 6]]\n"
          ]
        }
      ]
    },
    {
      "cell_type": "code",
      "source": [
        "# hstack-수평, vstack-수직\n",
        "a=np.array([[1,2],[3,4]])\n",
        "b=np.array([[5,6],[7,8]])\n",
        "c=np.hstack((a,b)) # (튜플){딕셔너리}[리스트]\n",
        "print(c)\n"
      ],
      "metadata": {
        "colab": {
          "base_uri": "https://localhost:8080/"
        },
        "id": "SJfca-NXDt0Z",
        "outputId": "c588ed09-502b-487a-b6d5-b6c94647d000"
      },
      "execution_count": 92,
      "outputs": [
        {
          "output_type": "stream",
          "name": "stdout",
          "text": [
            "[[1 2 5 6]\n",
            " [3 4 7 8]]\n"
          ]
        }
      ]
    },
    {
      "cell_type": "code",
      "source": [
        "# empty 항목을 초기화하지 않고 주어진 모양과 유형의 새 배열을 반환\n",
        "a=np.empty(4)\n",
        "print(a)\n",
        "a=np.empty(4, dtype=np.int64)\n",
        "print(a)\n",
        "a=np.empty((2,4), dtype= np.int32)\n",
        "print(a)"
      ],
      "metadata": {
        "colab": {
          "base_uri": "https://localhost:8080/"
        },
        "id": "s7su9NiiNc7i",
        "outputId": "6ff364bb-4964-4db8-b77d-c112298607fa"
      },
      "execution_count": 94,
      "outputs": [
        {
          "output_type": "stream",
          "name": "stdout",
          "text": [
            "[4.9e-324 9.9e-324 1.5e-323 2.0e-323]\n",
            "[1 2 3 4]\n",
            "[[1 0 2 0]\n",
            " [3 0 4 0]]\n"
          ]
        }
      ]
    },
    {
      "cell_type": "markdown",
      "source": [
        "### Math Operation"
      ],
      "metadata": {
        "id": "3hqs9K6WOsg_"
      }
    },
    {
      "cell_type": "code",
      "source": [
        "# 행렬 곱하기\n",
        "a=np.array([[1,2,3],[4,5,6]])\n",
        "b=np.array([[2,2],[3,3],[4,4]])\n",
        "c=a@b\n",
        "print(c)\n",
        "np.matmul(a,b)\n",
        "print(c)"
      ],
      "metadata": {
        "colab": {
          "base_uri": "https://localhost:8080/"
        },
        "id": "15NM1BPLPrY1",
        "outputId": "57f509be-b153-4cae-d852-77bd907b43d6"
      },
      "execution_count": 100,
      "outputs": [
        {
          "output_type": "stream",
          "name": "stdout",
          "text": [
            "[[20 20]\n",
            " [47 47]]\n",
            "[[20 20]\n",
            " [47 47]]\n"
          ]
        }
      ]
    },
    {
      "cell_type": "code",
      "source": [
        "# 제곱\n",
        "a=np.array([1,2,3,4])\n",
        "a1=np.square(a) #제곱\n",
        "print(a1)\n",
        "\n",
        "# 제곱그\n",
        "a=np.array(1,2,3,4,)\n",
        "\n"
      ],
      "metadata": {
        "colab": {
          "base_uri": "https://localhost:8080/",
          "height": 219
        },
        "id": "QDPz-qcjRTHn",
        "outputId": "6fac751f-1cd3-48dc-9fd3-31711be5341a"
      },
      "execution_count": 104,
      "outputs": [
        {
          "output_type": "stream",
          "name": "stdout",
          "text": [
            "[ 1  4  9 16]\n"
          ]
        },
        {
          "output_type": "error",
          "ename": "TypeError",
          "evalue": "array() takes from 1 to 2 positional arguments but 4 were given",
          "traceback": [
            "\u001b[0;31m---------------------------------------------------------------------------\u001b[0m",
            "\u001b[0;31mTypeError\u001b[0m                                 Traceback (most recent call last)",
            "\u001b[0;32m<ipython-input-104-ee817b1a02c8>\u001b[0m in \u001b[0;36m<cell line: 7>\u001b[0;34m()\u001b[0m\n\u001b[1;32m      5\u001b[0m \u001b[0;34m\u001b[0m\u001b[0m\n\u001b[1;32m      6\u001b[0m \u001b[0;31m# 제곱그\u001b[0m\u001b[0;34m\u001b[0m\u001b[0;34m\u001b[0m\u001b[0m\n\u001b[0;32m----> 7\u001b[0;31m \u001b[0ma\u001b[0m\u001b[0;34m=\u001b[0m\u001b[0mnp\u001b[0m\u001b[0;34m.\u001b[0m\u001b[0marray\u001b[0m\u001b[0;34m(\u001b[0m\u001b[0;36m1\u001b[0m\u001b[0;34m,\u001b[0m\u001b[0;36m2\u001b[0m\u001b[0;34m,\u001b[0m\u001b[0;36m3\u001b[0m\u001b[0;34m,\u001b[0m\u001b[0;36m4\u001b[0m\u001b[0;34m,\u001b[0m\u001b[0;34m)\u001b[0m\u001b[0;34m\u001b[0m\u001b[0;34m\u001b[0m\u001b[0m\n\u001b[0m\u001b[1;32m      8\u001b[0m \u001b[0;34m\u001b[0m\u001b[0m\n",
            "\u001b[0;31mTypeError\u001b[0m: array() takes from 1 to 2 positional arguments but 4 were given"
          ]
        }
      ]
    },
    {
      "cell_type": "code",
      "source": [
        "from numpy import pi,e"
      ],
      "metadata": {
        "id": "lvTTyp8STwJQ"
      },
      "execution_count": 106,
      "outputs": []
    },
    {
      "cell_type": "code",
      "source": [
        "print(pi)\n",
        "print(e)"
      ],
      "metadata": {
        "colab": {
          "base_uri": "https://localhost:8080/"
        },
        "id": "o4rmm_EfUE7Q",
        "outputId": "b376e64c-42d3-427a-a14e-84f4e77d4f94"
      },
      "execution_count": 107,
      "outputs": [
        {
          "output_type": "stream",
          "name": "stdout",
          "text": [
            "3.141592653589793\n",
            "2.718281828459045\n"
          ]
        }
      ]
    },
    {
      "cell_type": "code",
      "source": [
        "import numpy as np\n",
        "np.exp(1)\n",
        "x= np.array([0,1,2])\n",
        "y=np.exp(x)\n",
        "print(y)"
      ],
      "metadata": {
        "colab": {
          "base_uri": "https://localhost:8080/"
        },
        "id": "y5btXC2yUIN-",
        "outputId": "13f54fb9-8f21-46a4-afb6-180c5c825131"
      },
      "execution_count": 111,
      "outputs": [
        {
          "output_type": "stream",
          "name": "stdout",
          "text": [
            "[1.         2.71828183 7.3890561 ]\n"
          ]
        }
      ]
    },
    {
      "cell_type": "code",
      "source": [
        "import matplotlib.pyplot as plt # 지수 함수로 그래프 그림\n",
        "x=np.linespace(-2,2,100)\n",
        "y=np.exp(x)\n",
        "print(y)\n",
        "\n"
      ],
      "metadata": {
        "colab": {
          "base_uri": "https://localhost:8080/",
          "height": 327
        },
        "id": "IJD4PG-KUmUv",
        "outputId": "4cb35eb6-1271-4646-99cd-1628f988c7c6"
      },
      "execution_count": 113,
      "outputs": [
        {
          "output_type": "error",
          "ename": "AttributeError",
          "evalue": "module 'numpy' has no attribute 'linespace'",
          "traceback": [
            "\u001b[0;31m---------------------------------------------------------------------------\u001b[0m",
            "\u001b[0;31mAttributeError\u001b[0m                            Traceback (most recent call last)",
            "\u001b[0;32m<ipython-input-113-8415dd7e9149>\u001b[0m in \u001b[0;36m<cell line: 2>\u001b[0;34m()\u001b[0m\n\u001b[1;32m      1\u001b[0m \u001b[0;32mimport\u001b[0m \u001b[0mmatplotlib\u001b[0m\u001b[0;34m.\u001b[0m\u001b[0mpyplot\u001b[0m \u001b[0;32mas\u001b[0m \u001b[0mplt\u001b[0m \u001b[0;31m# 지수 함수로 그래프 그림\u001b[0m\u001b[0;34m\u001b[0m\u001b[0;34m\u001b[0m\u001b[0m\n\u001b[0;32m----> 2\u001b[0;31m \u001b[0mx\u001b[0m\u001b[0;34m=\u001b[0m\u001b[0mnp\u001b[0m\u001b[0;34m.\u001b[0m\u001b[0mlinespace\u001b[0m\u001b[0;34m(\u001b[0m\u001b[0;34m-\u001b[0m\u001b[0;36m2\u001b[0m\u001b[0;34m,\u001b[0m\u001b[0;36m2\u001b[0m\u001b[0;34m,\u001b[0m\u001b[0;36m100\u001b[0m\u001b[0;34m)\u001b[0m\u001b[0;34m\u001b[0m\u001b[0;34m\u001b[0m\u001b[0m\n\u001b[0m\u001b[1;32m      3\u001b[0m \u001b[0my\u001b[0m\u001b[0;34m=\u001b[0m\u001b[0mnp\u001b[0m\u001b[0;34m.\u001b[0m\u001b[0mexp\u001b[0m\u001b[0;34m(\u001b[0m\u001b[0mx\u001b[0m\u001b[0;34m)\u001b[0m\u001b[0;34m\u001b[0m\u001b[0;34m\u001b[0m\u001b[0m\n\u001b[1;32m      4\u001b[0m \u001b[0mprint\u001b[0m\u001b[0;34m(\u001b[0m\u001b[0my\u001b[0m\u001b[0;34m)\u001b[0m\u001b[0;34m\u001b[0m\u001b[0;34m\u001b[0m\u001b[0m\n",
            "\u001b[0;32m/usr/local/lib/python3.10/dist-packages/numpy/__init__.py\u001b[0m in \u001b[0;36m__getattr__\u001b[0;34m(attr)\u001b[0m\n\u001b[1;32m    326\u001b[0m             \u001b[0;32mraise\u001b[0m \u001b[0mRuntimeError\u001b[0m\u001b[0;34m(\u001b[0m\u001b[0;34m\"Tester was removed in NumPy 1.25.\"\u001b[0m\u001b[0;34m)\u001b[0m\u001b[0;34m\u001b[0m\u001b[0;34m\u001b[0m\u001b[0m\n\u001b[1;32m    327\u001b[0m \u001b[0;34m\u001b[0m\u001b[0m\n\u001b[0;32m--> 328\u001b[0;31m         raise AttributeError(\"module {!r} has no attribute \"\n\u001b[0m\u001b[1;32m    329\u001b[0m                              \"{!r}\".format(__name__, attr))\n\u001b[1;32m    330\u001b[0m \u001b[0;34m\u001b[0m\u001b[0m\n",
            "\u001b[0;31mAttributeError\u001b[0m: module 'numpy' has no attribute 'linespace'"
          ]
        }
      ]
    },
    {
      "cell_type": "code",
      "source": [
        "# 0~99까지 10행 10열 2차원 배열 만들기\n",
        "a=np.arang"
      ],
      "metadata": {
        "id": "L9aZwtcqXKeR"
      },
      "execution_count": null,
      "outputs": []
    },
    {
      "cell_type": "markdown",
      "source": [
        "### 가\n",
        "# 가\n",
        "## 가\n",
        "#"
      ],
      "metadata": {
        "id": "tzCdG2bjYs_o"
      }
    },
    {
      "cell_type": "markdown",
      "source": [
        "우수 초콜릿 분석하기"
      ],
      "metadata": {
        "id": "P_ExxDe5b6SQ"
      }
    },
    {
      "cell_type": "code",
      "source": [
        "import numpy as np\n",
        "from google.colab import files\n",
        "files.upload()\n",
        "data=np.loadtxt('chocolate_rating.csv', delimiter=',')\n"
      ],
      "metadata": {
        "colab": {
          "base_uri": "https://localhost:8080/",
          "height": 76
        },
        "id": "iP9Q3Ba8b5tU",
        "outputId": "bfa48952-b56a-453a-b437-27eb958d9416"
      },
      "execution_count": 117,
      "outputs": [
        {
          "output_type": "display_data",
          "data": {
            "text/plain": [
              "<IPython.core.display.HTML object>"
            ],
            "text/html": [
              "\n",
              "     <input type=\"file\" id=\"files-81f650f8-e018-42ef-a4e2-e02bb00be69a\" name=\"files[]\" multiple disabled\n",
              "        style=\"border:none\" />\n",
              "     <output id=\"result-81f650f8-e018-42ef-a4e2-e02bb00be69a\">\n",
              "      Upload widget is only available when the cell has been executed in the\n",
              "      current browser session. Please rerun this cell to enable.\n",
              "      </output>\n",
              "      <script>// Copyright 2017 Google LLC\n",
              "//\n",
              "// Licensed under the Apache License, Version 2.0 (the \"License\");\n",
              "// you may not use this file except in compliance with the License.\n",
              "// You may obtain a copy of the License at\n",
              "//\n",
              "//      http://www.apache.org/licenses/LICENSE-2.0\n",
              "//\n",
              "// Unless required by applicable law or agreed to in writing, software\n",
              "// distributed under the License is distributed on an \"AS IS\" BASIS,\n",
              "// WITHOUT WARRANTIES OR CONDITIONS OF ANY KIND, either express or implied.\n",
              "// See the License for the specific language governing permissions and\n",
              "// limitations under the License.\n",
              "\n",
              "/**\n",
              " * @fileoverview Helpers for google.colab Python module.\n",
              " */\n",
              "(function(scope) {\n",
              "function span(text, styleAttributes = {}) {\n",
              "  const element = document.createElement('span');\n",
              "  element.textContent = text;\n",
              "  for (const key of Object.keys(styleAttributes)) {\n",
              "    element.style[key] = styleAttributes[key];\n",
              "  }\n",
              "  return element;\n",
              "}\n",
              "\n",
              "// Max number of bytes which will be uploaded at a time.\n",
              "const MAX_PAYLOAD_SIZE = 100 * 1024;\n",
              "\n",
              "function _uploadFiles(inputId, outputId) {\n",
              "  const steps = uploadFilesStep(inputId, outputId);\n",
              "  const outputElement = document.getElementById(outputId);\n",
              "  // Cache steps on the outputElement to make it available for the next call\n",
              "  // to uploadFilesContinue from Python.\n",
              "  outputElement.steps = steps;\n",
              "\n",
              "  return _uploadFilesContinue(outputId);\n",
              "}\n",
              "\n",
              "// This is roughly an async generator (not supported in the browser yet),\n",
              "// where there are multiple asynchronous steps and the Python side is going\n",
              "// to poll for completion of each step.\n",
              "// This uses a Promise to block the python side on completion of each step,\n",
              "// then passes the result of the previous step as the input to the next step.\n",
              "function _uploadFilesContinue(outputId) {\n",
              "  const outputElement = document.getElementById(outputId);\n",
              "  const steps = outputElement.steps;\n",
              "\n",
              "  const next = steps.next(outputElement.lastPromiseValue);\n",
              "  return Promise.resolve(next.value.promise).then((value) => {\n",
              "    // Cache the last promise value to make it available to the next\n",
              "    // step of the generator.\n",
              "    outputElement.lastPromiseValue = value;\n",
              "    return next.value.response;\n",
              "  });\n",
              "}\n",
              "\n",
              "/**\n",
              " * Generator function which is called between each async step of the upload\n",
              " * process.\n",
              " * @param {string} inputId Element ID of the input file picker element.\n",
              " * @param {string} outputId Element ID of the output display.\n",
              " * @return {!Iterable<!Object>} Iterable of next steps.\n",
              " */\n",
              "function* uploadFilesStep(inputId, outputId) {\n",
              "  const inputElement = document.getElementById(inputId);\n",
              "  inputElement.disabled = false;\n",
              "\n",
              "  const outputElement = document.getElementById(outputId);\n",
              "  outputElement.innerHTML = '';\n",
              "\n",
              "  const pickedPromise = new Promise((resolve) => {\n",
              "    inputElement.addEventListener('change', (e) => {\n",
              "      resolve(e.target.files);\n",
              "    });\n",
              "  });\n",
              "\n",
              "  const cancel = document.createElement('button');\n",
              "  inputElement.parentElement.appendChild(cancel);\n",
              "  cancel.textContent = 'Cancel upload';\n",
              "  const cancelPromise = new Promise((resolve) => {\n",
              "    cancel.onclick = () => {\n",
              "      resolve(null);\n",
              "    };\n",
              "  });\n",
              "\n",
              "  // Wait for the user to pick the files.\n",
              "  const files = yield {\n",
              "    promise: Promise.race([pickedPromise, cancelPromise]),\n",
              "    response: {\n",
              "      action: 'starting',\n",
              "    }\n",
              "  };\n",
              "\n",
              "  cancel.remove();\n",
              "\n",
              "  // Disable the input element since further picks are not allowed.\n",
              "  inputElement.disabled = true;\n",
              "\n",
              "  if (!files) {\n",
              "    return {\n",
              "      response: {\n",
              "        action: 'complete',\n",
              "      }\n",
              "    };\n",
              "  }\n",
              "\n",
              "  for (const file of files) {\n",
              "    const li = document.createElement('li');\n",
              "    li.append(span(file.name, {fontWeight: 'bold'}));\n",
              "    li.append(span(\n",
              "        `(${file.type || 'n/a'}) - ${file.size} bytes, ` +\n",
              "        `last modified: ${\n",
              "            file.lastModifiedDate ? file.lastModifiedDate.toLocaleDateString() :\n",
              "                                    'n/a'} - `));\n",
              "    const percent = span('0% done');\n",
              "    li.appendChild(percent);\n",
              "\n",
              "    outputElement.appendChild(li);\n",
              "\n",
              "    const fileDataPromise = new Promise((resolve) => {\n",
              "      const reader = new FileReader();\n",
              "      reader.onload = (e) => {\n",
              "        resolve(e.target.result);\n",
              "      };\n",
              "      reader.readAsArrayBuffer(file);\n",
              "    });\n",
              "    // Wait for the data to be ready.\n",
              "    let fileData = yield {\n",
              "      promise: fileDataPromise,\n",
              "      response: {\n",
              "        action: 'continue',\n",
              "      }\n",
              "    };\n",
              "\n",
              "    // Use a chunked sending to avoid message size limits. See b/62115660.\n",
              "    let position = 0;\n",
              "    do {\n",
              "      const length = Math.min(fileData.byteLength - position, MAX_PAYLOAD_SIZE);\n",
              "      const chunk = new Uint8Array(fileData, position, length);\n",
              "      position += length;\n",
              "\n",
              "      const base64 = btoa(String.fromCharCode.apply(null, chunk));\n",
              "      yield {\n",
              "        response: {\n",
              "          action: 'append',\n",
              "          file: file.name,\n",
              "          data: base64,\n",
              "        },\n",
              "      };\n",
              "\n",
              "      let percentDone = fileData.byteLength === 0 ?\n",
              "          100 :\n",
              "          Math.round((position / fileData.byteLength) * 100);\n",
              "      percent.textContent = `${percentDone}% done`;\n",
              "\n",
              "    } while (position < fileData.byteLength);\n",
              "  }\n",
              "\n",
              "  // All done.\n",
              "  yield {\n",
              "    response: {\n",
              "      action: 'complete',\n",
              "    }\n",
              "  };\n",
              "}\n",
              "\n",
              "scope.google = scope.google || {};\n",
              "scope.google.colab = scope.google.colab || {};\n",
              "scope.google.colab._files = {\n",
              "  _uploadFiles,\n",
              "  _uploadFilesContinue,\n",
              "};\n",
              "})(self);\n",
              "</script> "
            ]
          },
          "metadata": {}
        },
        {
          "output_type": "stream",
          "name": "stdout",
          "text": [
            "Saving chocolate_rating.csv to chocolate_rating (2).csv\n"
          ]
        }
      ]
    },
    {
      "cell_type": "code",
      "source": [
        "# print(data)\n",
        "print(data.ndim)\n",
        "print(data.shape)\n",
        "print(data.size)\n"
      ],
      "metadata": {
        "colab": {
          "base_uri": "https://localhost:8080/"
        },
        "id": "uV5Uy9EedGoD",
        "outputId": "b5c1c514-079e-425f-e5b4-9486c330cfcf"
      },
      "execution_count": 119,
      "outputs": [
        {
          "output_type": "stream",
          "name": "stdout",
          "text": [
            "2\n",
            "(1795, 4)\n",
            "7180\n"
          ]
        }
      ]
    },
    {
      "cell_type": "code",
      "source": [
        "rating=data[:,3].mean()\n",
        "print(rating)\n",
        "\n",
        "high_level=data[data[:,3]>=4]\n",
        "print(high_level[0:10])\n",
        "high_id=high_level[:,0].astype(np.int64)\n",
        "print(high_id)\n",
        "print('우수 초코릿 수는?', high_id.size\n",
        "\n",
        ")"
      ],
      "metadata": {
        "colab": {
          "base_uri": "https://localhost:8080/"
        },
        "id": "M5PAIqYleb51",
        "outputId": "a52c58c8-bc1e-4d6e-9f74-e5ac0c110ba8"
      },
      "execution_count": 133,
      "outputs": [
        {
          "output_type": "stream",
          "name": "stdout",
          "text": [
            "3.185933147632312\n",
            "[[1.000e+01 2.014e+03 7.000e-01 4.000e+00]\n",
            " [1.800e+01 2.013e+03 7.000e-01 4.000e+00]\n",
            " [2.100e+01 2.013e+03 6.300e-01 4.000e+00]\n",
            " [5.500e+01 2.011e+03 7.000e-01 4.000e+00]\n",
            " [5.700e+01 2.010e+03 7.000e-01 4.000e+00]\n",
            " [7.700e+01 2.007e+03 7.000e-01 4.000e+00]\n",
            " [7.800e+01 2.007e+03 7.500e-01 4.000e+00]\n",
            " [7.900e+01 2.007e+03 7.000e-01 5.000e+00]\n",
            " [8.400e+01 2.007e+03 7.000e-01 4.000e+00]\n",
            " [8.700e+01 2.006e+03 7.000e-01 5.000e+00]]\n",
            "[  10   18   21   55   57   77   78   79   84   87   88   93  108  109\n",
            "  118  124  153  180  181  187  223  232  233  240  243  244  245  248\n",
            "  257  312  316  317  358  437  503  567  573  574  582  601  650  687\n",
            "  690  691  701  720  730  800  828  862  864  865  866  883  919  993\n",
            " 1088 1089 1118 1119 1120 1204 1241 1245 1247 1274 1277 1278 1289 1291\n",
            " 1293 1295 1323 1331 1336 1378 1394 1426 1428 1433 1479 1488 1513 1516\n",
            " 1529 1530 1531 1533 1536 1537 1544 1545 1664 1683 1686 1688 1694 1700\n",
            " 1740 1757]\n",
            "우수 초코릿 수는? 100\n"
          ]
        }
      ]
    },
    {
      "cell_type": "code",
      "source": [
        "high_kakao= high_level[:,2]\n",
        "print(high_kakao)\n",
        "unique_values, value_counts=np.unique(high_kakao, return_counts=True)\n",
        "print('카카오 함유량', unique_values)\n",
        "print('함유량 별 빈도수', value_counts)"
      ],
      "metadata": {
        "colab": {
          "base_uri": "https://localhost:8080/"
        },
        "id": "jpGJffvEhp-2",
        "outputId": "548d60c4-a449-476d-ded8-133fc44d7d16"
      },
      "execution_count": 136,
      "outputs": [
        {
          "output_type": "stream",
          "name": "stdout",
          "text": [
            "[0.7  0.7  0.63 0.7  0.7  0.7  0.75 0.7  0.7  0.7  0.66 0.6  0.7  0.7\n",
            " 0.7  0.72 0.7  0.73 0.72 0.72 0.75 0.75 0.75 0.75 0.75 0.75 0.75 0.75\n",
            " 0.7  0.71 0.7  0.7  0.72 0.75 0.7  0.7  0.7  0.7  0.7  0.7  0.68 0.7\n",
            " 0.74 0.69 0.7  0.74 0.7  0.72 0.7  0.74 0.7  0.72 0.72 0.7  0.7  0.63\n",
            " 0.68 0.74 0.67 0.65 0.64 0.75 0.7  0.7  0.7  0.75 0.7  0.67 0.7  0.72\n",
            " 0.72 0.72 0.75 0.75 0.8  0.75 0.75 0.7  0.78 0.65 0.7  0.72 0.7  0.75\n",
            " 0.88 0.7  0.67 0.7  0.7  0.7  0.64 0.7  0.7  0.63 0.69 0.64 0.64 0.7\n",
            " 0.7  0.7 ]\n",
            "카카오 함유량 [0.6  0.63 0.64 0.65 0.66 0.67 0.68 0.69 0.7  0.71 0.72 0.73 0.74 0.75\n",
            " 0.78 0.8  0.88]\n",
            "함유량 별 빈도수 [ 1  3  4  2  1  3  2  2 45  1 11  1  4 17  1  1  1]\n"
          ]
        }
      ]
    },
    {
      "cell_type": "code",
      "source": [
        "max_idx=np.argmax(value_counts)\n",
        "print(max_idx)\n",
        "print(unique_values[max_idx])\n",
        "print('우수초콜릿', high_id.size, '가지 중', value_counts[max_idx], '가지의 카카오 함유량이', unique_values[max_idx]*100, '% 입니다')"
      ],
      "metadata": {
        "colab": {
          "base_uri": "https://localhost:8080/"
        },
        "id": "YJxtgXx1kNX3",
        "outputId": "b081b222-e8bf-4d4d-b358-37a3110f246f"
      },
      "execution_count": 142,
      "outputs": [
        {
          "output_type": "stream",
          "name": "stdout",
          "text": [
            "8\n",
            "0.7\n",
            "우수초콜릿 100 가지 중 45 가지의 카카오 함유량이 70.0 % 입니다\n"
          ]
        }
      ]
    }
  ]
}