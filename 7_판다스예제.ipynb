{
  "nbformat": 4,
  "nbformat_minor": 0,
  "metadata": {
    "colab": {
      "provenance": [],
      "authorship_tag": "ABX9TyPe0RLCQXR/M2E2+JC5eo7D",
      "include_colab_link": true
    },
    "kernelspec": {
      "name": "python3",
      "display_name": "Python 3"
    },
    "language_info": {
      "name": "python"
    }
  },
  "cells": [
    {
      "cell_type": "markdown",
      "metadata": {
        "id": "view-in-github",
        "colab_type": "text"
      },
      "source": [
        "<a href=\"https://colab.research.google.com/github/harinme/ai/blob/main/7_%ED%8C%90%EB%8B%A4%EC%8A%A4%EC%98%88%EC%A0%9C.ipynb\" target=\"_parent\"><img src=\"https://colab.research.google.com/assets/colab-badge.svg\" alt=\"Open In Colab\"/></a>"
      ]
    },
    {
      "cell_type": "markdown",
      "source": [
        "판다스는 파이썬의 수 많은 라이브러리 가운데 레이블 형태의 자료를 수집하고 정리하는 데 매우 유용한 도구입니다. 이러한 판다스의 두 가지 대표적인 자료구조가 바로 시리즈(Series)와 데이터프레임(Dataframe)입니다.\n",
        "\n",
        "먼저 시리즈에 대해 알아보도록 합니다.\n",
        "\n",
        "Pandas의 Series는 1차원 배열로서 다음의 특징을 가집니다.\n",
        "\n",
        "데이터를 담는 차원 배열 구조를 가집니다.\n",
        "\n",
        "인덱스(index)를 사용 가능합니다.\n",
        "\n",
        "데이터 타입을 가집니다. (dtype)"
      ],
      "metadata": {
        "id": "YUHR0VEkpfRR"
      }
    },
    {
      "cell_type": "code",
      "source": [
        "import numpy as np\n",
        "import pandas as pd"
      ],
      "metadata": {
        "id": "c-9wsbK0p70j"
      },
      "execution_count": null,
      "outputs": []
    },
    {
      "cell_type": "code",
      "execution_count": null,
      "metadata": {
        "colab": {
          "base_uri": "https://localhost:8080/"
        },
        "id": "5Rum_NbBpZJL",
        "outputId": "1afcd03b-a983-4aca-c55f-b00873f31dab"
      },
      "outputs": [
        {
          "output_type": "stream",
          "name": "stdout",
          "text": [
            "넌파이 [100 101 102 103 104]\n",
            "판다스 0    100\n",
            "1    101\n",
            "2    102\n",
            "3    103\n",
            "4    104\n",
            "dtype: int64\n",
            "판다스 a2 0    100\n",
            "1    101\n",
            "2    102\n",
            "3    103\n",
            "4    104\n",
            "dtype: int32\n",
            "판다스 a3 0    100.0\n",
            "1    101.0\n",
            "2    102.0\n",
            "3    103.0\n",
            "4    104.0\n",
            "dtype: float32\n"
          ]
        }
      ],
      "source": [
        "#Series의 생성\n",
        "# 1. numpy array로 생성한 경우\n",
        "\n",
        "a1 = np.arange(100, 105)\n",
        "print('넌파이',a1)\n",
        "pd_a1= pd.Series(a1)\n",
        "print('판다스',pd_a1)\n",
        "\n",
        "# 2. dtype 지정하기\n",
        "pd_a2 = pd.Series(a1,dtype='int32')\n",
        "print('판다스 a2',pd_a2)\n",
        "\n",
        "pd_a3=pd.Series(a1, dtype='float32')\n",
        "print('판다스 a3', pd_a3)\n"
      ]
    },
    {
      "cell_type": "code",
      "source": [
        "# Series의 생성 방법2 - list 를 이용하기\n",
        "data= [91, 2.5 , '문자', 4, 5.16] # 리스트 안에 다양한 자료형을 넣음.\n",
        "pd_s2=pd.Series(data)\n",
        "print(pd_s2)\n",
        "print(pd_s2.dtype) # list 안에 자료가 다양하므로 모든 자료형을 표현할 수 있는 object 형이 나온다.\n",
        "print(pd_s2.index) # 인덱스의 범위를 알 수 있다. # 인덱스를 붙이지 않으면 자동으로 0부터 만들어진다.\n",
        "print(pd_s2[2]) # 문자\n",
        "\n",
        "\n",
        "# 인덱싱\n",
        "pd_s2[[1,3]] # pd_s2[[인덱스1,인덱스2]]\n",
        "a= pd_s2[np.arange(0,5,2)] # a=pd_s2[np.arange(시작인덱스, 끝 인덱스 포함 안됨, 증가값)]\n",
        "print(a)\n"
      ],
      "metadata": {
        "colab": {
          "base_uri": "https://localhost:8080/"
        },
        "id": "nOOnT8PLruES",
        "outputId": "e11f5111-a358-4c1f-f3a9-9a7ef9b93249"
      },
      "execution_count": null,
      "outputs": [
        {
          "output_type": "stream",
          "name": "stdout",
          "text": [
            "0      91\n",
            "1     2.5\n",
            "2      문자\n",
            "3       4\n",
            "4    5.16\n",
            "dtype: object\n",
            "object\n",
            "RangeIndex(start=0, stop=5, step=1)\n",
            "문자\n",
            "0      91\n",
            "2      문자\n",
            "4    5.16\n",
            "dtype: object\n"
          ]
        }
      ]
    },
    {
      "cell_type": "code",
      "source": [
        "import pandas as pd\n",
        "import numpy as np\n",
        "np.random.seed(0)\n",
        "a2=pd.Series(np.random.randint(10000,20000,size=(10,))) # 100~200 사이의 랜덤수를 10개 만들기\n",
        "# print(a2)\n",
        "# print(a2>150) # True, False\n",
        "print(a2[a2>150]) # 150이상인 것만 추출"
      ],
      "metadata": {
        "colab": {
          "base_uri": "https://localhost:8080/"
        },
        "id": "sZDlDfCF-yzm",
        "outputId": "14bb1de5-2498-43b8-8bc1-8a482df6fe29"
      },
      "execution_count": null,
      "outputs": [
        {
          "output_type": "stream",
          "name": "stdout",
          "text": [
            "0    12732\n",
            "1    19845\n",
            "2    13264\n",
            "3    14859\n",
            "4    19225\n",
            "5    17891\n",
            "6    14373\n",
            "7    15874\n",
            "8    16744\n",
            "9    13468\n",
            "dtype: int64\n"
          ]
        }
      ]
    },
    {
      "cell_type": "code",
      "source": [
        "# Series의 생성 방법4\n",
        "a4=pd.Series(['마케팅','경영','개발','기획','인사'], index=['a','b','c','d','e']) # index 명 지정하기\n",
        "print(a4) # 인덱스 값 보기\n",
        "print(a4.index) # 인덱스 보기\n",
        "print(a4.values)  # 값보기\n",
        "print(a4['a']) # 'a' 인덱스를 가지고 '마케팅' 값을 보기\n",
        "# 인덱스를 가지고 경영, 인사값 보기\n",
        "print(a4['b'], a4['e'])\n",
        "\n",
        "print('a4.dtype==>', a4.dtype)\n",
        "# ndim 차원\n",
        "print('a4.ndim==>', a4.ndim)\n",
        "# shape 데이터의 모양, 데이터 개수\n",
        "print('a4.shape==>', a4.shape)"
      ],
      "metadata": {
        "colab": {
          "base_uri": "https://localhost:8080/"
        },
        "id": "yznuuWEXAN1N",
        "outputId": "faec5a1d-18ae-4dfd-fac8-98f90cda0eb4"
      },
      "execution_count": null,
      "outputs": [
        {
          "output_type": "stream",
          "name": "stdout",
          "text": [
            "a    마케팅\n",
            "b     경영\n",
            "c     개발\n",
            "d     기획\n",
            "e     인사\n",
            "dtype: object\n",
            "Index(['a', 'b', 'c', 'd', 'e'], dtype='object')\n",
            "['마케팅' '경영' '개발' '기획' '인사']\n",
            "마케팅\n",
            "경영 인사\n",
            "a4.dtype==> object\n",
            "a4.ndim==> 1\n",
            "a4.shape==> (5,)\n"
          ]
        }
      ]
    },
    {
      "cell_type": "code",
      "source": [
        "# NaN( Not a Number) - 결측값\n",
        "a5= pd.Series(['선화','강호',np.nan,'소정','우영'])\n",
        "# 결측값 찾기 isnull() isna() 결측값이면 True\n",
        "# a5.isnull()\n",
        "a5.isna()\n",
        "a5[a5.isna()] # True 추출\n",
        "\n",
        "# 결측값이 아닌 것 찾기 notnull()\n",
        "a5[a5.notnull()]\n",
        "a5[a5.notna()]\n",
        "\n"
      ],
      "metadata": {
        "colab": {
          "base_uri": "https://localhost:8080/"
        },
        "id": "trry8BwHDJ7V",
        "outputId": "3b86685d-d4bf-47f4-a6fd-a99a876f44c9"
      },
      "execution_count": null,
      "outputs": [
        {
          "output_type": "execute_result",
          "data": {
            "text/plain": [
              "0    선화\n",
              "1    강호\n",
              "3    소정\n",
              "4    우영\n",
              "dtype: object"
            ]
          },
          "metadata": {},
          "execution_count": 24
        }
      ]
    },
    {
      "cell_type": "code",
      "source": [
        "# 슬라이싱\n",
        "a6 = pd.Series(np.arange(100,150,10))\n",
        "a6\n",
        "\n",
        "# 인덱스 변형\n",
        "a6.index=('a','b','c','d','e') # 인덱싱을 변경함\n",
        "a6['a':'d']\n",
        "index_list=list"
      ],
      "metadata": {
        "colab": {
          "base_uri": "https://localhost:8080/"
        },
        "id": "XS-YgbwMEmqF",
        "outputId": "a21cc122-21d5-498e-c8e5-998afa870681"
      },
      "execution_count": null,
      "outputs": [
        {
          "output_type": "execute_result",
          "data": {
            "text/plain": [
              "a    100\n",
              "b    110\n",
              "c    120\n",
              "d    130\n",
              "dtype: int64"
            ]
          },
          "metadata": {},
          "execution_count": 32
        }
      ]
    },
    {
      "cell_type": "markdown",
      "source": [
        "시리즈 문제 풀기"
      ],
      "metadata": {
        "id": "IzMh84-kKAG9"
      }
    },
    {
      "cell_type": "code",
      "source": [],
      "metadata": {
        "id": "bzIUGlgpLsrs"
      },
      "execution_count": null,
      "outputs": []
    },
    {
      "cell_type": "code",
      "source": [],
      "metadata": {
        "id": "2l5S4h42QVm8"
      },
      "execution_count": null,
      "outputs": []
    }
  ]
}